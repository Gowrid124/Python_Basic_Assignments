{
 "cells": [
  {
   "cell_type": "raw",
   "metadata": {},
   "source": [
    "1. To what does a relative path refer?\n",
    "Ans:\n",
    "The relative path corresponds to the current working directory."
   ]
  },
  {
   "cell_type": "raw",
   "metadata": {},
   "source": [
    "2. What does an absolute path start with your operating system?\n",
    "Ans:\n",
    "starts from the root folder. C:\\ or /"
   ]
  },
  {
   "cell_type": "raw",
   "metadata": {},
   "source": [
    "3. What do the functions os.getcwd() and os.chdir() do?\n",
    "Ans:\n",
    "os.getcwd() function will return the current working directory.\n",
    "os.chdir() function will help to change the current working directory."
   ]
  },
  {
   "cell_type": "raw",
   "metadata": {},
   "source": [
    "4. What are the . and .. folders?\n",
    "Ans:\n",
    ". is the current folder\n",
    ".. parent folder"
   ]
  },
  {
   "cell_type": "raw",
   "metadata": {},
   "source": [
    "5. In C:\\bacon\\eggs\\spam.txt, which part is the dir name, and which part is the base name?\n",
    "Ans:\n",
    "spam.txt is the base name\n",
    "C:\\bacon\\eggs is the dir name."
   ]
  },
  {
   "cell_type": "raw",
   "metadata": {},
   "source": [
    "6. What are the three “mode” arguments that can be passed to the open() function?\n",
    "Ans:\n",
    "The read, write and append mode as 'r','w' and 'a' respectively can be passed to the open() function."
   ]
  },
  {
   "cell_type": "raw",
   "metadata": {},
   "source": [
    "7. What happens if an existing file is opened in write mode?\n",
    "Ans:\n",
    "It will be overwritten and erased if opened in write mode."
   ]
  },
  {
   "cell_type": "raw",
   "metadata": {},
   "source": [
    "8. How do you tell the difference between read() and readlines()?\n",
    "Ans:\n",
    "read() will return a single string of the entire content of the file.\n",
    "readline() will return a list of strings from every line of the file."
   ]
  },
  {
   "cell_type": "raw",
   "metadata": {},
   "source": [
    "9. What data structure does a shelf value resemble?\n",
    "Ans:\n",
    "it resembles a dict as it has keys() and values()."
   ]
  }
 ],
 "metadata": {
  "kernelspec": {
   "display_name": "Python 3",
   "language": "python",
   "name": "python3"
  },
  "language_info": {
   "codemirror_mode": {
    "name": "ipython",
    "version": 3
   },
   "file_extension": ".py",
   "mimetype": "text/x-python",
   "name": "python",
   "nbconvert_exporter": "python",
   "pygments_lexer": "ipython3",
   "version": "3.8.3"
  }
 },
 "nbformat": 4,
 "nbformat_minor": 4
}
